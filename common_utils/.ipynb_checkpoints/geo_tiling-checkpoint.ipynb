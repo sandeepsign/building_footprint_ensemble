{
 "cells": [
  {
   "cell_type": "code",
   "execution_count": 88,
   "id": "6f5a545b",
   "metadata": {},
   "outputs": [
    {
     "ename": "ModuleNotFoundError",
     "evalue": "No module named 'utilities'",
     "output_type": "error",
     "traceback": [
      "\u001b[0;31m---------------------------------------------------------------------------\u001b[0m",
      "\u001b[0;31mModuleNotFoundError\u001b[0m                       Traceback (most recent call last)",
      "\u001b[0;32m<ipython-input-88-699f434e52bb>\u001b[0m in \u001b[0;36m<module>\u001b[0;34m\u001b[0m\n\u001b[1;32m     48\u001b[0m \u001b[0;32mfrom\u001b[0m \u001b[0mshapely\u001b[0m\u001b[0;34m.\u001b[0m\u001b[0mops\u001b[0m \u001b[0;32mimport\u001b[0m \u001b[0mtransform\u001b[0m\u001b[0;34m\u001b[0m\u001b[0;34m\u001b[0m\u001b[0m\n\u001b[1;32m     49\u001b[0m \u001b[0;32mimport\u001b[0m \u001b[0mpymysql\u001b[0m\u001b[0;34m\u001b[0m\u001b[0;34m\u001b[0m\u001b[0m\n\u001b[0;32m---> 50\u001b[0;31m \u001b[0;32mfrom\u001b[0m \u001b[0mutilities\u001b[0m\u001b[0;34m.\u001b[0m\u001b[0mlogging_util\u001b[0m \u001b[0;32mimport\u001b[0m \u001b[0;34m*\u001b[0m\u001b[0;34m\u001b[0m\u001b[0;34m\u001b[0m\u001b[0m\n\u001b[0m\u001b[1;32m     51\u001b[0m \u001b[0;32mfrom\u001b[0m \u001b[0mutilities\u001b[0m\u001b[0;34m.\u001b[0m\u001b[0mutils\u001b[0m \u001b[0;32mimport\u001b[0m \u001b[0;34m*\u001b[0m\u001b[0;34m\u001b[0m\u001b[0;34m\u001b[0m\u001b[0m\n\u001b[1;32m     52\u001b[0m \u001b[0;32mfrom\u001b[0m \u001b[0mutilities\u001b[0m\u001b[0;34m.\u001b[0m\u001b[0mdownload_file\u001b[0m \u001b[0;32mimport\u001b[0m \u001b[0;34m*\u001b[0m\u001b[0;34m\u001b[0m\u001b[0;34m\u001b[0m\u001b[0m\n",
      "\u001b[0;31mModuleNotFoundError\u001b[0m: No module named 'utilities'"
     ]
    }
   ],
   "source": [
    "import numpy as np\n",
    "from matplotlib import pyplot as plt\n",
    "from pathlib import Path\n",
    "import os\n",
    "import torch\n",
    "from collections import Counter \n",
    "from itertools import chain \n",
    "import time\n",
    "import math\n",
    "import matplotlib.path\n",
    "import numpy as np\n",
    "from collections import Counter \n",
    "from itertools import chain \n",
    "import torch\n",
    "import numpy as np\n",
    "import matplotlib\n",
    "from matplotlib import pyplot as plt\n",
    "from pathlib import Path\n",
    "import os\n",
    "import cv2\n",
    "from collections import Counter\n",
    "from itertools import chain\n",
    "import os\n",
    "from io import BytesIO\n",
    "import base64\n",
    "import sys\n",
    "from datetime import datetime \n",
    "from flask import Flask, render_template, escape, send_from_directory, request, jsonify\n",
    "from werkzeug.exceptions import RequestEntityTooLarge\n",
    "from PIL import Image\n",
    "import numpy as np\n",
    "import cv2\n",
    "import urllib\n",
    "import validators\n",
    "import requests\n",
    "import json\n",
    "import pdb\n",
    "from collections import OrderedDict \n",
    "from shapely.geometry import LineString\n",
    "from google.cloud.sql.connector import connector\n",
    "import google.protobuf.text_format\n",
    "from collections import Counter\n",
    "import math\n",
    "import shapely.geometry\n",
    "from shapely.geometry.polygon import Polygon\n",
    "import pyproj\n",
    "from shapely.geometry import shape\n",
    "from shapely.ops import transform\n",
    "import pymysql\n",
    "from utilities.logging_util import *\n",
    "from utilities.utils import *\n",
    "from utilities.download_file import *\n",
    "from utilities.basic import *\n",
    "from utilities.time_keeper import *\n",
    "import traceback2 as traceback\n",
    "from public_data import *\n",
    "\n",
    "%config Completer.use_jedi = False\n",
    "%load_ext autoreload\n",
    "%autoreload 2"
   ]
  },
  {
   "cell_type": "code",
   "execution_count": null,
   "id": "5ee7f0a7",
   "metadata": {},
   "outputs": [],
   "source": []
  },
  {
   "cell_type": "code",
   "execution_count": 83,
   "id": "76bcf506",
   "metadata": {},
   "outputs": [],
   "source": [
    "def deg2num(lat_deg, lon_deg, zoom=20):\n",
    "  lat_rad = math.radians(lat_deg)\n",
    "  n = 2.0 ** zoom\n",
    "  xtile = int((lon_deg + 180.0) / 360.0 * n)\n",
    "  ytile = int((1.0 - math.asinh(math.tan(lat_rad)) / math.pi) / 2.0 * n)\n",
    "  return (xtile, ytile)\n",
    "\n",
    "def num2deg(xtile, ytile, zoom=20):\n",
    "  xtile, ytile = xtile+0.5, ytile+0.5\n",
    "  n = 2.0 ** zoom\n",
    "  lon_deg = xtile / n * 360.0 - 180.0\n",
    "  lat_rad = math.atan(math.sinh(math.pi * (1 - 2 * ytile / n)))\n",
    "  lat_deg = math.degrees(lat_rad)\n",
    "  return (lat_deg, lon_deg)"
   ]
  },
  {
   "cell_type": "code",
   "execution_count": 37,
   "id": "dd9d765d",
   "metadata": {},
   "outputs": [],
   "source": [
    "lat_deg, lon_deg = 37.44229107444846, -122.19045639038086\n",
    "zoom = 20"
   ]
  },
  {
   "cell_type": "code",
   "execution_count": 38,
   "id": "ea819de6",
   "metadata": {},
   "outputs": [
    {
     "data": {
      "text/plain": [
       "(168382, 406519)"
      ]
     },
     "execution_count": 38,
     "metadata": {},
     "output_type": "execute_result"
    }
   ],
   "source": [
    "xtile, ytile = deg2num(lat_deg, lon_deg, zoom)\n",
    "xtile, ytile"
   ]
  },
  {
   "cell_type": "code",
   "execution_count": 29,
   "id": "f0afb305",
   "metadata": {},
   "outputs": [
    {
     "data": {
      "text/plain": [
       "(37.44229107444846, -122.19045639038086)"
      ]
     },
     "execution_count": 29,
     "metadata": {},
     "output_type": "execute_result"
    }
   ],
   "source": [
    "lat_deg_new, lon_deg_new = num2deg(xtile, ytile, zoom)\n",
    "lat_deg_new, lon_deg_new"
   ]
  },
  {
   "cell_type": "code",
   "execution_count": 31,
   "id": "1e17a2e3",
   "metadata": {},
   "outputs": [],
   "source": [
    "top_lat,left_long = 37.442926, -122.191494\n",
    "bottom_lat,right_long = 37.442230, -122.190300"
   ]
  },
  {
   "cell_type": "code",
   "execution_count": 33,
   "id": "1e7ae3e3",
   "metadata": {},
   "outputs": [
    {
     "data": {
      "text/plain": [
       "(168379, 406517)"
      ]
     },
     "execution_count": 33,
     "metadata": {},
     "output_type": "execute_result"
    }
   ],
   "source": [
    "xtile_left, ytile_top = deg2num(top_lat,left_long, zoom)\n",
    "xtile_left, ytile_top"
   ]
  },
  {
   "cell_type": "code",
   "execution_count": 34,
   "id": "25925778",
   "metadata": {},
   "outputs": [
    {
     "data": {
      "text/plain": [
       "(37.44283624571066, -122.19148635864258)"
      ]
     },
     "execution_count": 34,
     "metadata": {},
     "output_type": "execute_result"
    }
   ],
   "source": [
    "lat_deg_new, lon_deg_new = num2deg(xtile_left, ytile_top, zoom)\n",
    "lat_deg_new, lon_deg_new"
   ]
  },
  {
   "cell_type": "code",
   "execution_count": 42,
   "id": "2f0728fc",
   "metadata": {},
   "outputs": [
    {
     "data": {
      "text/plain": [
       "[406518, 406519, 406520]"
      ]
     },
     "execution_count": 42,
     "metadata": {},
     "output_type": "execute_result"
    }
   ],
   "source": [
    "tiles = 3\n",
    "offset = 3//2\n",
    "\n",
    "list(range(xtile-offset,xtile+offset+1))\n",
    "list(range(ytile-offset,ytile+offset+1))"
   ]
  },
  {
   "cell_type": "code",
   "execution_count": 43,
   "id": "15fcbc5b",
   "metadata": {},
   "outputs": [
    {
     "data": {
      "text/plain": [
       "[array([[168381, 168382, 168383],\n",
       "        [168381, 168382, 168383],\n",
       "        [168381, 168382, 168383]]),\n",
       " array([[406518, 406518, 406518],\n",
       "        [406519, 406519, 406519],\n",
       "        [406520, 406520, 406520]])]"
      ]
     },
     "execution_count": 43,
     "metadata": {},
     "output_type": "execute_result"
    }
   ],
   "source": [
    "np.meshgrid(list(range(xtile-offset,xtile+offset+1)), list(range(ytile-offset,ytile+offset+1)))"
   ]
  },
  {
   "cell_type": "code",
   "execution_count": 79,
   "id": "c9282180",
   "metadata": {},
   "outputs": [],
   "source": [
    "def create_tiles_grid(xtile,ytile, grid_size=3):\n",
    "    ''' Creates the tiles grid with (xtile,ytile) '''\n",
    "    from itertools import product\n",
    "    offset = grid_size//2    \n",
    "    grid_list = list(product(list(range(xtile-offset,xtile+offset+1)),list(range(ytile-offset,ytile+offset+1)) )) \n",
    "    grid_arr = np.array(grid_list).reshape(3,-1)\n",
    "    grid_dict = {(r,c):(grid_arr[r][c*2],grid_arr[r][c*2+1]) for r in range(grid_size) for c in range(grid_size)}\n",
    "    return grid_dict"
   ]
  },
  {
   "cell_type": "code",
   "execution_count": 85,
   "id": "fb60bc6c",
   "metadata": {},
   "outputs": [
    {
     "data": {
      "text/plain": [
       "{(0, 0): (168381, 406518),\n",
       " (0, 1): (168381, 406519),\n",
       " (0, 2): (168381, 406520),\n",
       " (1, 0): (168382, 406518),\n",
       " (1, 1): (168382, 406519),\n",
       " (1, 2): (168382, 406520),\n",
       " (2, 0): (168383, 406518),\n",
       " (2, 1): (168383, 406519),\n",
       " (2, 2): (168383, 406520)}"
      ]
     },
     "execution_count": 85,
     "metadata": {},
     "output_type": "execute_result"
    }
   ],
   "source": [
    "tiles_xy = create_tiles_grid(xtile,ytile,grid_size=3)\n",
    "tiles_xy"
   ]
  },
  {
   "cell_type": "code",
   "execution_count": 87,
   "id": "d0dd486c",
   "metadata": {},
   "outputs": [
    {
     "data": {
      "text/plain": [
       "{(0, 0): (37.442563660576084, -122.19079971313477),\n",
       " (0, 1): (37.44229107444846, -122.19079971313477),\n",
       " (0, 2): (37.442018487327836, -122.19079971313477),\n",
       " (1, 0): (37.442563660576084, -122.19045639038086),\n",
       " (1, 1): (37.44229107444846, -122.19045639038086),\n",
       " (1, 2): (37.442018487327836, -122.19045639038086),\n",
       " (2, 0): (37.442563660576084, -122.19011306762695),\n",
       " (2, 1): (37.44229107444846, -122.19011306762695),\n",
       " (2, 2): (37.442018487327836, -122.19011306762695)}"
      ]
     },
     "execution_count": 87,
     "metadata": {},
     "output_type": "execute_result"
    }
   ],
   "source": [
    "tiles_centers = {(x,y):num2deg(*tiles_xy[(x,y)])  for x,y in tiles_xy}\n",
    "tiles_centers"
   ]
  },
  {
   "cell_type": "code",
   "execution_count": null,
   "id": "669b5473",
   "metadata": {},
   "outputs": [],
   "source": []
  }
 ],
 "metadata": {
  "kernelspec": {
   "display_name": "Python [conda env:solaris] *",
   "language": "python",
   "name": "conda-env-solaris-py"
  },
  "language_info": {
   "codemirror_mode": {
    "name": "ipython",
    "version": 3
   },
   "file_extension": ".py",
   "mimetype": "text/x-python",
   "name": "python",
   "nbconvert_exporter": "python",
   "pygments_lexer": "ipython3",
   "version": "3.7.8"
  }
 },
 "nbformat": 4,
 "nbformat_minor": 5
}
