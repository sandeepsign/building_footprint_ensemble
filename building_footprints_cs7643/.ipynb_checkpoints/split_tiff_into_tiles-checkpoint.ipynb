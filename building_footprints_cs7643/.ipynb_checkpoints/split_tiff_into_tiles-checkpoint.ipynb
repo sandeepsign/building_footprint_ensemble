{
 "cells": [
  {
   "cell_type": "code",
   "execution_count": 3,
   "metadata": {},
   "outputs": [],
   "source": [
    "from fastai import *\n",
    "import matplotlib as mpl\n",
    "import matplotlib.pyplot as plt\n",
    "import numpy as np\n",
    "import pandas as pd\n",
    "import cv2 \n",
    "import pathlib\n",
    "from pathlib import Path\n",
    "from datetime import datetime\n",
    "import fastai\n",
    "from fastai import *\n",
    "from fastai.vision import *\n",
    "from fastai.callbacks.hooks import *\n",
    "from fastai.utils.mem import *\n",
    "from fastai.vision import *\n",
    "from fastai.callbacks import *\n",
    "from fastai.utils.collect_env import *\n",
    "import cv2\n",
    "import torch\n",
    "%matplotlib inline"
   ]
  },
  {
   "cell_type": "code",
   "execution_count": 4,
   "metadata": {
    "scrolled": false
   },
   "outputs": [
    {
     "name": "stdout",
     "output_type": "stream",
     "text": [
      "\n",
      "\n",
      "```text\n",
      "=== Software === \n",
      "python        : 3.7.3\n",
      "fastai        : 1.0.57\n",
      "fastprogress  : 0.1.21\n",
      "torch         : 1.2.0\n",
      "nvidia driver : 455.45\n",
      "torch cuda    : 10.0.130 / is available\n",
      "torch cudnn   : 7600 / is enabled\n",
      "\n",
      "=== Hardware === \n",
      "nvidia gpus   : 1\n",
      "torch devices : 1\n",
      "  - gpu0      : 16125MB | Quadro RTX 5000\n",
      "\n",
      "=== Environment === \n",
      "platform      : Linux-5.4.0-62-generic-x86_64-with-debian-buster-sid\n",
      "distro        : #70~18.04.1-Ubuntu SMP Tue Jan 12 17:18:00 UTC 2021\n",
      "conda env     : pythongis\n",
      "python        : /home/sandeep/anaconda3/envs/pythongis/bin/python\n",
      "sys.path      : /home/sandeep/GoogleDrive/GTech/CS7643_DeepLearning/Project/building_footprints_cs7643\n",
      "/home/sandeep/anaconda3/envs/pythongis/lib/python37.zip\n",
      "/home/sandeep/anaconda3/envs/pythongis/lib/python3.7\n",
      "/home/sandeep/anaconda3/envs/pythongis/lib/python3.7/lib-dynload\n",
      "\n",
      "/home/sandeep/.local/lib/python3.7/site-packages\n",
      "/home/sandeep/anaconda3/envs/pythongis/lib/python3.7/site-packages\n",
      "/home/sandeep/anaconda3/envs/pythongis/lib/python3.7/site-packages/IPython/extensions\n",
      "/home/sandeep/.ipython\n",
      "```\n",
      "\n",
      "Please make sure to include opening/closing ``` when you paste into forums/github to make the reports appear formatted as code sections.\n",
      "\n",
      "Optional package(s) to enhance the diagnostics can be installed with:\n",
      "pip install distro\n",
      "Once installed, re-run this utility to get the additional information\n"
     ]
    }
   ],
   "source": [
    "mpl.rcParams['figure.figsize'] = [15, 15] # Size in Inches\n",
    "show_install()"
   ]
  },
  {
   "cell_type": "markdown",
   "metadata": {},
   "source": [
    "## Download Data"
   ]
  },
  {
   "cell_type": "markdown",
   "metadata": {},
   "source": [
    "We are using INRIA data for training building footprints. This can be further tuned to be refitted on futher target data. \n",
    "\n",
    "https://project.inria.fr/aerialimagelabeling/\n",
    "\n",
    "This data is also available in our vm at:\n",
    "\n",
    "<path-to-training-data>\n",
    "\n",
    "In this bucket, we have :\n",
    "\n",
    "- We have tiles as 512x512 images and masks in their respective folders. (this is used for training)\n",
    "\n"
   ]
  },
  {
   "cell_type": "code",
   "execution_count": 5,
   "metadata": {},
   "outputs": [],
   "source": [
    "def subtile_images(src_imgs_path, src_img_file_ext, dst_folder, dst_img_file_ext, dst_imgX, dst_imgY, dst_img_format=''):\n",
    "    ''' Method to split image files in smalled tile images. \n",
    "            src_imgs_path: folder path where all the image files to be splitted are present.\n",
    "            src_img_file_ext: extension of the image files to be splitted\n",
    "            dst_folder: folder path for saving splitted smaller images\n",
    "            dst_img_file_ext: extension for splitted smaller images\n",
    "            dst_imgX: width of tile\n",
    "            dst_imgY: height of tile\n",
    "        Note that all the masks will be saved as numpy array of dtype float with values as 0.0 and 1.10\n",
    "            \n",
    "    '''\n",
    "    M = dst_imgX #512\n",
    "    N = dst_imgY #512\n",
    "    for img_file in Path(src_imgs_path).ls():\n",
    "        if img_file.suffix != src_img_file_ext:\n",
    "            continue\n",
    "        im = cv2.imread(str(img_file))\n",
    "        tiles = [im[x:x+M,y:y+N] for x in range(0,im.shape[0],M) for y in range(0,im.shape[1],N)]\n",
    "        tiles = [t for t in tiles if  t.shape[:2]==(M,N)] #drop the tiles, which are not of size (M,N)\n",
    "        for i,t in enumerate(tiles):\n",
    "            if dst_img_format =='gray': #if needed save as grayscale images\n",
    "                plt.imsave(str(Path(dst_folder)/f'{img_file.stem}_{i}{dst_img_file_ext}'), t, cmap=dst_img_format)\n",
    "            elif len(t.shape)==2: #if it is mask, save as 0.0 or 1.0 values\n",
    "                #cv2.imwrite(str(Path(dst_folder)/f'{img_file.stem}_{i}{dst_img_file_ext}'), t.astype('bool').astype(np.uint8))\n",
    "                cv2.imwrite(Path(dst_folder)/f'{img_file.stem}_{i}{dst_img_file_ext}', t)\n",
    "            else: #Else save as normal 3 or 4 channel image \n",
    "                cv2.imwrite(str(Path(dst_folder)/f'{img_file.stem}_{i}{dst_img_file_ext}'), t)"
   ]
  },
  {
   "cell_type": "code",
   "execution_count": 6,
   "metadata": {},
   "outputs": [],
   "source": [
    "path_imgs = Path('/home/sandeep/GoogleDrive/beans-home/mount_shared_partition/image_data/data_building_footprint/original_data/AerialImageDataset/train/images')\n",
    "path_masks = Path('/home/sandeep/GoogleDrive/beans-home/mount_shared_partition/image_data/data_building_footprint/original_data/AerialImageDataset/train/gt')\n",
    "path_save_imgs_512 = Path('/home/sandeep/GoogleDrive/beans-home/mount_shared_partition/image_data/data_building_footprint/training_512x512/images-512')\n",
    "path_save_masks_512 = Path('/home/sandeep/GoogleDrive/beans-home/mount_shared_partition/image_data/data_building_footprint/training_512x512/masks-512')\n",
    "\n",
    "path_save_imgs_256 = Path('/home/sandeep/GoogleDrive/beans-home/mount_shared_partition/image_data/data_building_footprint/training_256x256/images-256')\n",
    "path_save_masks_256 = Path('/home/sandeep/GoogleDrive/beans-home/mount_shared_partition/image_data/data_building_footprint/training_256x256/masks-256')"
   ]
  },
  {
   "cell_type": "markdown",
   "metadata": {},
   "source": [
    "### 512 x 512 tiles"
   ]
  },
  {
   "cell_type": "code",
   "execution_count": 13,
   "metadata": {},
   "outputs": [
    {
     "name": "stdout",
     "output_type": "stream",
     "text": [
      "Total Time taken : 0:25:46.649695\n"
     ]
    }
   ],
   "source": [
    "# Split all the training images\n",
    "# Total Time taken : 25 mins\n",
    "st=datetime.now()\n",
    "subtile_images(path_imgs, '.tif',\n",
    "               path_save_imgs_512, '.png',\n",
    "               512, 512)\n",
    "print(f'Total Time taken : {datetime.now()-st}')"
   ]
  },
  {
   "cell_type": "code",
   "execution_count": 98,
   "metadata": {},
   "outputs": [
    {
     "name": "stdout",
     "output_type": "stream",
     "text": [
      "Total Time taken : 0:00:51.877299\n"
     ]
    }
   ],
   "source": [
    "st=datetime.now()\n",
    "# Split all the training masks\n",
    "subtile_images(path_masks, '.tif',\n",
    "               path_save_masks_512, '.png',\n",
    "               512, 512)\n",
    "print(f'Total Time taken : {datetime.now()-st}')"
   ]
  },
  {
   "cell_type": "markdown",
   "metadata": {},
   "source": [
    "## 256 x 256 tiles"
   ]
  },
  {
   "cell_type": "code",
   "execution_count": 7,
   "metadata": {},
   "outputs": [
    {
     "name": "stdout",
     "output_type": "stream",
     "text": [
      "Total Time taken : 0:04:33.458065\n"
     ]
    }
   ],
   "source": [
    "# Split all the training images\n",
    "# Total Time taken : 25 mins\n",
    "st=datetime.now()\n",
    "subtile_images(path_imgs, '.tif',\n",
    "               path_save_imgs_256, '.png',\n",
    "               256, 256)\n",
    "print(f'Total Time taken : {datetime.now()-st}')"
   ]
  },
  {
   "cell_type": "code",
   "execution_count": 9,
   "metadata": {},
   "outputs": [
    {
     "data": {
      "text/plain": [
       "PosixPath('/home/sandeep/GoogleDrive/beans-home/mount_shared_partition/image_data/data_building_footprint/training_256x256/masks-256')"
      ]
     },
     "execution_count": 9,
     "metadata": {},
     "output_type": "execute_result"
    }
   ],
   "source": [
    "path_save_masks_256"
   ]
  },
  {
   "cell_type": "code",
   "execution_count": 10,
   "metadata": {},
   "outputs": [
    {
     "name": "stdout",
     "output_type": "stream",
     "text": [
      "Total Time taken : 0:00:57.178332\n"
     ]
    }
   ],
   "source": [
    "st=datetime.now()\n",
    "# Split all the training masks\n",
    "subtile_images(path_masks, '.tif',\n",
    "               path_save_masks_256, '.png',\n",
    "               256, 256)\n",
    "print(f'Total Time taken : {datetime.now()-st}')"
   ]
  },
  {
   "cell_type": "code",
   "execution_count": null,
   "metadata": {},
   "outputs": [],
   "source": []
  }
 ],
 "metadata": {
  "kernelspec": {
   "display_name": "Python [conda env:pythongis]",
   "language": "python",
   "name": "conda-env-pythongis-py"
  },
  "language_info": {
   "codemirror_mode": {
    "name": "ipython",
    "version": 3
   },
   "file_extension": ".py",
   "mimetype": "text/x-python",
   "name": "python",
   "nbconvert_exporter": "python",
   "pygments_lexer": "ipython3",
   "version": "3.7.3"
  }
 },
 "nbformat": 4,
 "nbformat_minor": 2
}
